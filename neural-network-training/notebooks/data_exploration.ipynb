{
 "cells": [
  {
   "cell_type": "markdown",
   "metadata": {},
   "source": [
    "# Data Exploration\n",
    "\n",
    "This notebook is used for exploratory data analysis (EDA) of the dataset containing 3D positions of wrist, elbow, and shoulder points. The goal is to understand the dataset better and visualize the relationships between the features and the labels."
   ]
  },
  {
   "cell_type": "code",
   "execution_count": null,
   "metadata": {},
   "outputs": [],
   "source": [
    "import pandas as pd\n",
    "import matplotlib.pyplot as plt\n",
    "import seaborn as sns\n",
    "\n",
    "# Load the dataset\n",
    "data = pd.read_csv('../data/raw/dataset.csv')\n",
    "\n",
    "# Display the first few rows of the dataset\n",
    "data.head()"
   ]
  },
  {
   "cell_type": "code",
   "execution_count": null,
   "metadata": {},
   "outputs": [],
   "source": [
    "# Summary statistics\n",
    "data.describe()"
   ]
  },
  {
   "cell_type": "code",
   "execution_count": null,
   "metadata": {},
   "outputs": [],
   "source": [
    "# Visualizing the distribution of labels\n",
    "plt.figure(figsize=(8, 6))\n",
    "sns.countplot(x='label', data=data)\n",
    "plt.title('Distribution of Labels')\n",
    "plt.xlabel('Label (0: Fully Extended, 1: Bent)')\n",
    "plt.ylabel('Count')\n",
    "plt.show()"
   ]
  },
  {
   "cell_type": "code",
   "execution_count": null,
   "metadata": {},
   "outputs": [],
   "source": [
    "# Visualizing the 3D positions\n",
    "fig = plt.figure(figsize=(12, 8))\n",
    "ax = fig.add_subplot(111, projection='3d')\n",
    "ax.scatter(data['wrist_x'], data['wrist_y'], data['wrist_z'], c=data['label'], cmap='viridis', label='Wrist')\n",
    "ax.scatter(data['elbow_x'], data['elbow_y'], data['elbow_z'], c=data['label'], cmap='plasma', label='Elbow')\n",
    "ax.scatter(data['shoulder_x'], data['shoulder_y'], data['shoulder_z'], c=data['label'], cmap='cool', label='Shoulder')\n",
    "ax.set_xlabel('X Position')\n",
    "ax.set_ylabel('Y Position')\n",
    "ax.set_zlabel('Z Position')\n",
    "plt.title('3D Positions of Wrist, Elbow, and Shoulder')\n",
    "plt.legend()\n",
    "plt.show()"
   ]
  }
 ],
 "metadata": {
  "kernelspec": {
   "display_name": "Python 3",
   "language": "python",
   "name": "python3"
  },
  "language_info": {
   "codemirror_mode": {
    "name": "ipython",
    "version": 3
   },
   "file_extension": ".py",
   "mimetype": "text/x-python",
   "name": "python",
   "nbconvert_exporter": "python",
   "pygments_lexer": "ipython3",
   "version": "3.8.5"
  }
 },
 "nbformat": 4,
 "nbformat_minor": 4
}